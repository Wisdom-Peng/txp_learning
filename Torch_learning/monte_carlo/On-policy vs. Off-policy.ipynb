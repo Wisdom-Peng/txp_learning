{
 "cells": [
  {
   "cell_type": "markdown",
   "metadata": {},
   "source": [
    "**主要讲解了重要性采样的补充知识**\n",
    "\n",
    "以及提到了On-policy 和 Off-policy\n",
    "\n",
    "哔哩哔哩视频链接：https://www.bilibili.com/video/BV1Vr421u7Qz?spm_id_from=333.788.player.switch&vd_source=1b6c2fd68d9aac5e58af1bfba4b04328\n",
    "\n",
    "知乎文章：https://zhuanlan.zhihu.com/p/346433931"
   ]
  },
  {
   "cell_type": "markdown",
   "metadata": {},
   "source": [
    "$p(x) vs. q(x)$"
   ]
  },
  {
   "cell_type": "code",
   "execution_count": null,
   "metadata": {},
   "outputs": [],
   "source": []
  }
 ],
 "metadata": {
  "kernelspec": {
   "display_name": "Python 3",
   "language": "python",
   "name": "python3"
  },
  "language_info": {
   "codemirror_mode": {
    "name": "ipython",
    "version": 3
   },
   "file_extension": ".py",
   "mimetype": "text/x-python",
   "name": "python",
   "nbconvert_exporter": "python",
   "pygments_lexer": "ipython3",
   "version": "3.8.3"
  }
 },
 "nbformat": 4,
 "nbformat_minor": 4
}
