{
 "cells": [
  {
   "cell_type": "markdown",
   "metadata": {},
   "source": [
    "@Article{wang2023multimodality,\n",
    "  author  = {Jiahao Wang},\n",
    "  title   = {多模态大模型超详细解读 (目录)},\n",
    "  journal = {https://zhuanlan.zhihu.com/},\n",
    "  year    = {2023},\n",
    "  url= {https://zhuanlan.zhihu.com/p/625926419/},\n",
    "}"
   ]
  },
  {
   "cell_type": "markdown",
   "metadata": {},
   "source": [
    "## 参考文献\n",
    "\n",
    "1. Jiahao Wang, \"多模态大模型超详细解读 (目录)\", 2023. [知乎专栏](https://zhuanlan.zhihu.com/p/625926419/)"
   ]
  },
  {
   "cell_type": "code",
   "execution_count": null,
   "metadata": {},
   "outputs": [],
   "source": []
  }
 ],
 "metadata": {
  "kernelspec": {
   "display_name": "Python 3",
   "language": "python",
   "name": "python3"
  },
  "language_info": {
   "codemirror_mode": {
    "name": "ipython",
    "version": 3
   },
   "file_extension": ".py",
   "mimetype": "text/x-python",
   "name": "python",
   "nbconvert_exporter": "python",
   "pygments_lexer": "ipython3",
   "version": "3.8.3"
  }
 },
 "nbformat": 4,
 "nbformat_minor": 4
}
