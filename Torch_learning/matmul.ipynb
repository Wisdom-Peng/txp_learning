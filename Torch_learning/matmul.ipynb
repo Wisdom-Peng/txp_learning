{
 "cells": [
  {
   "cell_type": "code",
   "execution_count": 7,
   "metadata": {},
   "outputs": [],
   "source": [
    "def mat_multiply(A,B):\n",
    "    rows_A,cols_A = len(A),len(A[0])\n",
    "    rows_B,cols_B = len(B),len(B[0])\n",
    "    \n",
    "    if cols_A != rows_B:\n",
    "        print(\"矩阵A与矩阵B不能相乘\")\n",
    "        \n",
    "    C = [[0 for _ in range(cols_B)]for _ in range(rows_A)]\n",
    "    \n",
    "    for i in range(rows_A):\n",
    "        for j in range(cols_B):\n",
    "            for k in range(cols_A):\n",
    "                C[i][j] += A[i][k] * B[k][j]\n",
    "    \n",
    "    return C\n",
    "def mat_multipy(A,B):\n",
    "    rows_A,cols_A =len(A),len(A[0])\n",
    "    C=[[s for _ in range(cols_B)] for _ in range(rows_A)]"
   ]
  },
  {
   "cell_type": "code",
   "execution_count": 10,
   "metadata": {},
   "outputs": [
    {
     "name": "stdout",
     "output_type": "stream",
     "text": [
      "[[1 2 3]\n",
      " [4 5 6]]\n",
      "[[1 2]\n",
      " [3 4]\n",
      " [5 6]]\n",
      "[[np.int64(22), np.int64(28)], [np.int64(49), np.int64(64)]]\n",
      "CPU times: user 362 μs, sys: 0 ns, total: 362 μs\n",
      "Wall time: 369 μs\n"
     ]
    }
   ],
   "source": [
    "%%time\n",
    "import numpy as np\n",
    "A=np.array([[1,2,3],\n",
    "           [4,5,6]])\n",
    "B=np.array([[1,2],\n",
    "           [3,4],\n",
    "           [5,6]])\n",
    "result = mat_multiply(A,B)\n",
    "print(A)\n",
    "print(B)\n",
    "print(result)"
   ]
  },
  {
   "cell_type": "code",
   "execution_count": null,
   "metadata": {},
   "outputs": [],
   "source": [
    "%%time\n",
    "result = np.matmul(A,B)\n",
    "print(result)"
   ]
  },
  {
   "cell_type": "code",
   "execution_count": null,
   "metadata": {},
   "outputs": [],
   "source": [
    "from numba import cuda\n",
    "import numpy as np\n",
    "\n",
    "@cuda.jit\n",
    "def mat_multiply_cuda_kernel(A, B, C):\n",
    "    # 获取线程的全局索引\n",
    "    row, col = cuda.grid(2)\n",
    "    \n",
    "    # 检查是否超出矩阵范围\n",
    "    if row < C.shape[0] and col < C.shape[1]:\n",
    "        temp = 0\n",
    "        for k in range(A.shape[1]):\n",
    "            temp += A[row, k] * B[k, col]\n",
    "        C[row, col] = temp\n",
    "\n",
    "def mat_multiply_cuda_numba(A, B):\n",
    "    # 检查矩阵是否可以相乘\n",
    "    if A.shape[1] != B.shape[0]:\n",
    "        raise ValueError(\"矩阵A与矩阵B不能相乘\")\n",
    "    \n",
    "    # 初始化结果矩阵\n",
    "    C = np.zeros((A.shape[0], B.shape[1]), dtype=A.dtype)\n",
    "    \n",
    "    # 定义线程和块的大小\n",
    "    threads_per_block = (16, 16)\n",
    "    blocks_per_grid = ((C.shape[0] + threads_per_block[0] - 1) // threads_per_block[0],\n",
    "                       (C.shape[1] + threads_per_block[1] - 1) // threads_per_block[1])\n",
    "    \n",
    "    # 将矩阵复制到GPU\n",
    "    A_gpu = cuda.to_device(A)\n",
    "    B_gpu = cuda.to_device(B)\n",
    "    C_gpu = cuda.to_device(C)\n",
    "    \n",
    "    # 启动CUDA内核\n",
    "    mat_multiply_cuda_kernel[blocks_per_grid, threads_per_block](A_gpu, B_gpu, C_gpu)\n",
    "    \n",
    "    # 将结果复制回主机\n",
    "    C = C_gpu.copy_to_host()\n",
    "    \n",
    "    return C"
   ]
  },
  {
   "cell_type": "code",
   "execution_count": null,
   "metadata": {},
   "outputs": [],
   "source": [
    "result = mat_multiply_cuda_numba(A,B)"
   ]
  },
  {
   "cell_type": "code",
   "execution_count": null,
   "metadata": {},
   "outputs": [],
   "source": []
  }
 ],
 "metadata": {
  "kernelspec": {
   "display_name": "d21",
   "language": "python",
   "name": "python3"
  },
  "language_info": {
   "codemirror_mode": {
    "name": "ipython",
    "version": 3
   },
   "file_extension": ".py",
   "mimetype": "text/x-python",
   "name": "python",
   "nbconvert_exporter": "python",
   "pygments_lexer": "ipython3",
   "version": "3.13.2"
  }
 },
 "nbformat": 4,
 "nbformat_minor": 4
}
