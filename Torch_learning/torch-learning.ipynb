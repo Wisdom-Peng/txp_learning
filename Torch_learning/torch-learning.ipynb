{
 "cells": [
  {
   "cell_type": "markdown",
   "metadata": {},
   "source": [
    "# torch 数据类型"
   ]
  },
  {
   "cell_type": "markdown",
   "metadata": {},
   "source": [
    "## 1.导入torch库并检验安装情况"
   ]
  },
  {
   "cell_type": "markdown",
   "metadata": {},
   "source": []
  },
  {
   "cell_type": "code",
   "execution_count": 2,
   "metadata": {},
   "outputs": [
    {
     "name": "stdout",
     "output_type": "stream",
     "text": [
      "2.4.1+cu124\n",
      "True\n"
     ]
    }
   ],
   "source": [
    "import torch \n",
    "import torch.nn as nn #神经网络器模块\n",
    "import torch.optim as optim #优化器模块\n",
    "import numpy as np\n",
    "import matplotlib\n",
    "print(torch.__version__) #查看torch版本\n",
    "print(torch.cuda.is_available()) #查看torch是否可以用gpu"
   ]
  },
  {
   "cell_type": "code",
   "execution_count": 3,
   "metadata": {},
   "outputs": [
    {
     "name": "stdout",
     "output_type": "stream",
     "text": [
      "torch.FloatTensor\n",
      "<class 'torch.Tensor'>\n"
     ]
    }
   ],
   "source": [
    "a=torch.randn(2,3)\n",
    "a.type()\n",
    "type(a)\n",
    "print(a.type())\n",
    "print(type(a))"
   ]
  },
  {
   "cell_type": "code",
   "execution_count": 4,
   "metadata": {},
   "outputs": [
    {
     "data": {
      "text/plain": [
       "False"
      ]
     },
     "execution_count": 4,
     "metadata": {},
     "output_type": "execute_result"
    }
   ],
   "source": [
    "data=torch.randn(1,2)\n",
    "data=data.cuda()\n",
    "isinstance(data,torch.cuda.DoubleTensor)\n"
   ]
  },
  {
   "cell_type": "code",
   "execution_count": 5,
   "metadata": {},
   "outputs": [
    {
     "data": {
      "text/plain": [
       "True"
      ]
     },
     "execution_count": 5,
     "metadata": {},
     "output_type": "execute_result"
    }
   ],
   "source": [
    "isinstance(data,torch.cuda.FloatTensor)"
   ]
  },
  {
   "cell_type": "code",
   "execution_count": 17,
   "metadata": {},
   "outputs": [
    {
     "data": {
      "text/plain": [
       "True"
      ]
     },
     "execution_count": 17,
     "metadata": {},
     "output_type": "execute_result"
    }
   ],
   "source": [
    "data=torch.randn(1,2,dtype=torch.float64)\n",
    "data=data.cuda()\n",
    "isinstance(data,torch.cuda.DoubleTensor)"
   ]
  },
  {
   "cell_type": "code",
   "execution_count": 6,
   "metadata": {},
   "outputs": [
    {
     "name": "stdout",
     "output_type": "stream",
     "text": [
      "torch.float32\n"
     ]
    }
   ],
   "source": [
    "print(data.dtype)"
   ]
  },
  {
   "cell_type": "markdown",
   "metadata": {},
   "source": [
    "## 2.数据类型"
   ]
  },
  {
   "cell_type": "markdown",
   "metadata": {},
   "source": [
    "### 2.1 dim=0 \n",
    "（用作标量）"
   ]
  },
  {
   "cell_type": "code",
   "execution_count": 40,
   "metadata": {},
   "outputs": [
    {
     "data": {
      "text/plain": [
       "torch.Size([])"
      ]
     },
     "execution_count": 40,
     "metadata": {},
     "output_type": "execute_result"
    }
   ],
   "source": [
    "a=torch.tensor(2.2)\n",
    "a.shape"
   ]
  },
  {
   "cell_type": "code",
   "execution_count": 41,
   "metadata": {},
   "outputs": [
    {
     "data": {
      "text/plain": [
       "<function Tensor.size>"
      ]
     },
     "execution_count": 41,
     "metadata": {},
     "output_type": "execute_result"
    }
   ],
   "source": [
    "a.size"
   ]
  },
  {
   "cell_type": "code",
   "execution_count": 42,
   "metadata": {},
   "outputs": [
    {
     "data": {
      "text/plain": [
       "torch.Size([])"
      ]
     },
     "execution_count": 42,
     "metadata": {},
     "output_type": "execute_result"
    }
   ],
   "source": [
    "a.size()"
   ]
  },
  {
   "cell_type": "code",
   "execution_count": 43,
   "metadata": {},
   "outputs": [
    {
     "data": {
      "text/plain": [
       "0"
      ]
     },
     "execution_count": 43,
     "metadata": {},
     "output_type": "execute_result"
    }
   ],
   "source": [
    "len(a.shape)"
   ]
  },
  {
   "cell_type": "markdown",
   "metadata": {},
   "source": [
    "### 2.2 dim=1\n",
    "（bias,linear input)"
   ]
  },
  {
   "cell_type": "code",
   "execution_count": 33,
   "metadata": {},
   "outputs": [
    {
     "data": {
      "text/plain": [
       "torch.Size([1])"
      ]
     },
     "execution_count": 33,
     "metadata": {},
     "output_type": "execute_result"
    }
   ],
   "source": [
    "b=torch.tensor([1.2])\n",
    "b.shape"
   ]
  },
  {
   "cell_type": "code",
   "execution_count": 34,
   "metadata": {},
   "outputs": [
    {
     "data": {
      "text/plain": [
       "<function Tensor.size>"
      ]
     },
     "execution_count": 34,
     "metadata": {},
     "output_type": "execute_result"
    }
   ],
   "source": [
    "b.size"
   ]
  },
  {
   "cell_type": "code",
   "execution_count": 35,
   "metadata": {},
   "outputs": [
    {
     "data": {
      "text/plain": [
       "torch.Size([1])"
      ]
     },
     "execution_count": 35,
     "metadata": {},
     "output_type": "execute_result"
    }
   ],
   "source": [
    "b.size()"
   ]
  },
  {
   "cell_type": "code",
   "execution_count": 37,
   "metadata": {},
   "outputs": [
    {
     "data": {
      "text/plain": [
       "1"
      ]
     },
     "execution_count": 37,
     "metadata": {},
     "output_type": "execute_result"
    }
   ],
   "source": [
    "len(b.shape)"
   ]
  },
  {
   "cell_type": "code",
   "execution_count": 58,
   "metadata": {},
   "outputs": [
    {
     "data": {
      "text/plain": [
       "array([1., 1., 1., 1.])"
      ]
     },
     "execution_count": 58,
     "metadata": {},
     "output_type": "execute_result"
    }
   ],
   "source": [
    "data=np.ones(4)\n",
    "data"
   ]
  },
  {
   "cell_type": "code",
   "execution_count": 57,
   "metadata": {},
   "outputs": [
    {
     "name": "stdout",
     "output_type": "stream",
     "text": [
      "tensor([1., 1., 1., 1.], dtype=torch.float64)\n"
     ]
    }
   ],
   "source": [
    "data=torch.from_numpy(data)\n",
    "print(data)"
   ]
  },
  {
   "cell_type": "markdown",
   "metadata": {},
   "source": [
    "### 2.3 dim=2"
   ]
  },
  {
   "cell_type": "code",
   "execution_count": 62,
   "metadata": {},
   "outputs": [
    {
     "data": {
      "text/plain": [
       "tensor([[ 0.3091, -0.0754,  0.5061],\n",
       "        [ 0.3758, -0.8391,  0.5472]])"
      ]
     },
     "execution_count": 62,
     "metadata": {},
     "output_type": "execute_result"
    }
   ],
   "source": [
    "a=torch.randn(2,3)\n",
    "a"
   ]
  },
  {
   "cell_type": "code",
   "execution_count": 63,
   "metadata": {},
   "outputs": [
    {
     "data": {
      "text/plain": [
       "torch.Size([2, 3])"
      ]
     },
     "execution_count": 63,
     "metadata": {},
     "output_type": "execute_result"
    }
   ],
   "source": [
    "a.shape"
   ]
  },
  {
   "cell_type": "code",
   "execution_count": 64,
   "metadata": {},
   "outputs": [
    {
     "data": {
      "text/plain": [
       "torch.Size([2, 3])"
      ]
     },
     "execution_count": 64,
     "metadata": {},
     "output_type": "execute_result"
    }
   ],
   "source": [
    "a.size()"
   ]
  },
  {
   "cell_type": "code",
   "execution_count": 68,
   "metadata": {},
   "outputs": [
    {
     "data": {
      "text/plain": [
       "2"
      ]
     },
     "execution_count": 68,
     "metadata": {},
     "output_type": "execute_result"
    }
   ],
   "source": [
    "a.size(0)"
   ]
  },
  {
   "cell_type": "code",
   "execution_count": 69,
   "metadata": {},
   "outputs": [
    {
     "data": {
      "text/plain": [
       "3"
      ]
     },
     "execution_count": 69,
     "metadata": {},
     "output_type": "execute_result"
    }
   ],
   "source": [
    "a.size(1)"
   ]
  },
  {
   "cell_type": "code",
   "execution_count": 71,
   "metadata": {},
   "outputs": [
    {
     "data": {
      "text/plain": [
       "3"
      ]
     },
     "execution_count": 71,
     "metadata": {},
     "output_type": "execute_result"
    }
   ],
   "source": [
    "a.shape[1]"
   ]
  },
  {
   "cell_type": "code",
   "execution_count": 75,
   "metadata": {},
   "outputs": [
    {
     "data": {
      "text/plain": [
       "tensor([0., 0., 0.])"
      ]
     },
     "execution_count": 75,
     "metadata": {},
     "output_type": "execute_result"
    }
   ],
   "source": [
    "b=torch.zeros(3,dtype=a.dtype)\n",
    "b"
   ]
  },
  {
   "cell_type": "code",
   "execution_count": 77,
   "metadata": {},
   "outputs": [
    {
     "data": {
      "text/plain": [
       "torch.float32"
      ]
     },
     "execution_count": 77,
     "metadata": {},
     "output_type": "execute_result"
    }
   ],
   "source": [
    "a.dtype"
   ]
  },
  {
   "cell_type": "markdown",
   "metadata": {},
   "source": [
    "### 2.4 dim=3 "
   ]
  },
  {
   "cell_type": "code",
   "execution_count": 86,
   "metadata": {},
   "outputs": [
    {
     "data": {
      "text/plain": [
       "tensor([[[0.9935, 0.4246, 0.5168, 0.5055, 0.9275],\n",
       "         [0.5834, 0.6589, 0.3727, 0.6544, 0.8033],\n",
       "         [0.2057, 0.0509, 0.5329, 0.5934, 0.5565],\n",
       "         [0.9566, 0.6225, 0.9856, 0.8420, 0.3354]],\n",
       "\n",
       "        [[0.8371, 0.2064, 0.3176, 0.0757, 0.4433],\n",
       "         [0.4124, 0.2249, 0.0285, 0.2768, 0.2345],\n",
       "         [0.2725, 0.4880, 0.8525, 0.6961, 0.5870],\n",
       "         [0.0230, 0.9659, 0.0741, 0.0552, 0.9491]]])"
      ]
     },
     "execution_count": 86,
     "metadata": {},
     "output_type": "execute_result"
    }
   ],
   "source": [
    "a=torch.rand(2,4,5)\n",
    "a"
   ]
  },
  {
   "cell_type": "code",
   "execution_count": 87,
   "metadata": {},
   "outputs": [
    {
     "data": {
      "text/plain": [
       "torch.Size([2, 4, 5])"
      ]
     },
     "execution_count": 87,
     "metadata": {},
     "output_type": "execute_result"
    }
   ],
   "source": [
    "a.shape"
   ]
  },
  {
   "cell_type": "code",
   "execution_count": 88,
   "metadata": {},
   "outputs": [
    {
     "data": {
      "text/plain": [
       "tensor([[0.9935, 0.4246, 0.5168, 0.5055, 0.9275],\n",
       "        [0.5834, 0.6589, 0.3727, 0.6544, 0.8033],\n",
       "        [0.2057, 0.0509, 0.5329, 0.5934, 0.5565],\n",
       "        [0.9566, 0.6225, 0.9856, 0.8420, 0.3354]])"
      ]
     },
     "execution_count": 88,
     "metadata": {},
     "output_type": "execute_result"
    }
   ],
   "source": [
    "a[0]"
   ]
  },
  {
   "cell_type": "code",
   "execution_count": 89,
   "metadata": {},
   "outputs": [
    {
     "data": {
      "text/plain": [
       "torch.Size([4, 5])"
      ]
     },
     "execution_count": 89,
     "metadata": {},
     "output_type": "execute_result"
    }
   ],
   "source": [
    "a[0].shape"
   ]
  },
  {
   "cell_type": "markdown",
   "metadata": {},
   "source": [
    "### 2.5 dim=4"
   ]
  },
  {
   "cell_type": "code",
   "execution_count": 146,
   "metadata": {},
   "outputs": [],
   "source": [
    "a=torch.rand(2,3,28,28)\n"
   ]
  },
  {
   "cell_type": "code",
   "execution_count": 92,
   "metadata": {},
   "outputs": [
    {
     "data": {
      "text/plain": [
       "4704"
      ]
     },
     "execution_count": 92,
     "metadata": {},
     "output_type": "execute_result"
    }
   ],
   "source": [
    "a.numel() # numbel elements"
   ]
  },
  {
   "cell_type": "code",
   "execution_count": 93,
   "metadata": {},
   "outputs": [
    {
     "data": {
      "text/plain": [
       "4"
      ]
     },
     "execution_count": 93,
     "metadata": {},
     "output_type": "execute_result"
    }
   ],
   "source": [
    "a.dim()"
   ]
  },
  {
   "cell_type": "code",
   "execution_count": 96,
   "metadata": {},
   "outputs": [
    {
     "data": {
      "text/plain": [
       "torch.Size([3, 28, 28])"
      ]
     },
     "execution_count": 96,
     "metadata": {},
     "output_type": "execute_result"
    }
   ],
   "source": [
    "a[1].shape"
   ]
  },
  {
   "cell_type": "code",
   "execution_count": 97,
   "metadata": {},
   "outputs": [
    {
     "data": {
      "text/plain": [
       "3"
      ]
     },
     "execution_count": 97,
     "metadata": {},
     "output_type": "execute_result"
    }
   ],
   "source": [
    "a.size(1)"
   ]
  },
  {
   "cell_type": "markdown",
   "metadata": {},
   "source": [
    "## 3 创建torch数据"
   ]
  },
  {
   "cell_type": "markdown",
   "metadata": {},
   "source": [
    "### 3.1  import from numpy"
   ]
  },
  {
   "cell_type": "code",
   "execution_count": 108,
   "metadata": {},
   "outputs": [
    {
     "data": {
      "text/plain": [
       "array([[2. , 3.3],\n",
       "       [2. , 4. ]])"
      ]
     },
     "execution_count": 108,
     "metadata": {},
     "output_type": "execute_result"
    }
   ],
   "source": [
    "a=np.array([[2,3.3],[2,4]])\n",
    "a"
   ]
  },
  {
   "cell_type": "code",
   "execution_count": 111,
   "metadata": {},
   "outputs": [
    {
     "data": {
      "text/plain": [
       "(2, 2)"
      ]
     },
     "execution_count": 111,
     "metadata": {},
     "output_type": "execute_result"
    }
   ],
   "source": [
    "a.shape"
   ]
  },
  {
   "cell_type": "code",
   "execution_count": 112,
   "metadata": {},
   "outputs": [
    {
     "data": {
      "text/plain": [
       "dtype('float64')"
      ]
     },
     "execution_count": 112,
     "metadata": {},
     "output_type": "execute_result"
    }
   ],
   "source": [
    "a.dtype"
   ]
  },
  {
   "cell_type": "code",
   "execution_count": 113,
   "metadata": {},
   "outputs": [
    {
     "data": {
      "text/plain": [
       "tensor([[2.0000, 3.3000],\n",
       "        [2.0000, 4.0000]], dtype=torch.float64)"
      ]
     },
     "execution_count": 113,
     "metadata": {},
     "output_type": "execute_result"
    }
   ],
   "source": [
    "torch.from_numpy(a)"
   ]
  },
  {
   "cell_type": "code",
   "execution_count": 120,
   "metadata": {},
   "outputs": [
    {
     "data": {
      "text/plain": [
       "tensor([[2.0000, 3.3008],\n",
       "        [2.0000, 4.0000]], dtype=torch.float16)"
      ]
     },
     "execution_count": 120,
     "metadata": {},
     "output_type": "execute_result"
    }
   ],
   "source": [
    "b=torch.tensor(a,dtype=torch.float16)\n",
    "b"
   ]
  },
  {
   "cell_type": "markdown",
   "metadata": {},
   "source": [
    "### 3.2 import from list "
   ]
  },
  {
   "cell_type": "code",
   "execution_count": 121,
   "metadata": {},
   "outputs": [
    {
     "data": {
      "text/plain": [
       "tensor([2, 3])"
      ]
     },
     "execution_count": 121,
     "metadata": {},
     "output_type": "execute_result"
    }
   ],
   "source": [
    "torch.tensor([2,3])"
   ]
  },
  {
   "cell_type": "code",
   "execution_count": 122,
   "metadata": {},
   "outputs": [
    {
     "data": {
      "text/plain": [
       "tensor([[2, 3],\n",
       "        [4, 5]])"
      ]
     },
     "execution_count": 122,
     "metadata": {},
     "output_type": "execute_result"
    }
   ],
   "source": [
    "torch.tensor([[2,3],[4,5]])"
   ]
  },
  {
   "cell_type": "code",
   "execution_count": 123,
   "metadata": {},
   "outputs": [
    {
     "data": {
      "text/plain": [
       "tensor([1., 1., 1.])"
      ]
     },
     "execution_count": 123,
     "metadata": {},
     "output_type": "execute_result"
    }
   ],
   "source": [
    "torch.ones(3)"
   ]
  },
  {
   "cell_type": "code",
   "execution_count": 124,
   "metadata": {},
   "outputs": [
    {
     "data": {
      "text/plain": [
       "tensor([0., 0., 0., 0., 0., 0., 0., 0.])"
      ]
     },
     "execution_count": 124,
     "metadata": {},
     "output_type": "execute_result"
    }
   ],
   "source": [
    "torch.zeros(8)"
   ]
  },
  {
   "cell_type": "code",
   "execution_count": 128,
   "metadata": {},
   "outputs": [
    {
     "data": {
      "text/plain": [
       "tensor([[[1., 1., 1., 1.],\n",
       "         [1., 1., 1., 1.],\n",
       "         [1., 1., 1., 1.],\n",
       "         [1., 1., 1., 1.],\n",
       "         [1., 1., 1., 1.]],\n",
       "\n",
       "        [[1., 1., 1., 1.],\n",
       "         [1., 1., 1., 1.],\n",
       "         [1., 1., 1., 1.],\n",
       "         [1., 1., 1., 1.],\n",
       "         [1., 1., 1., 1.]]])"
      ]
     },
     "execution_count": 128,
     "metadata": {},
     "output_type": "execute_result"
    }
   ],
   "source": [
    "torch.ones(2,5,4)"
   ]
  },
  {
   "cell_type": "code",
   "execution_count": 136,
   "metadata": {},
   "outputs": [
    {
     "name": "stdout",
     "output_type": "stream",
     "text": [
      "tensor([[[-0.5278,  1.2054,  1.5073,  0.9739],\n",
      "         [ 0.8661,  0.7168,  0.1116, -2.1202],\n",
      "         [ 0.5696, -0.4113,  0.2497,  0.8150],\n",
      "         [-1.5565,  1.2621,  1.2977, -1.2128],\n",
      "         [ 0.1018,  0.7821,  0.9251,  0.9403]],\n",
      "\n",
      "        [[ 0.7573, -0.3246,  0.3033, -0.3044],\n",
      "         [-2.4289, -1.1770, -0.2752, -0.5788],\n",
      "         [-1.3912,  0.9544, -2.1216, -0.1773],\n",
      "         [-0.7299,  1.8687,  0.6452,  0.0547],\n",
      "         [ 1.5546,  0.6870,  0.2700,  0.2413]]])\n",
      "tensor([[[0., 0., 0., 0.],\n",
      "         [0., 0., 0., 0.],\n",
      "         [0., 0., 0., 0.],\n",
      "         [0., 0., 0., 0.],\n",
      "         [0., 0., 0., 0.]],\n",
      "\n",
      "        [[0., 0., 0., 0.],\n",
      "         [0., 0., 0., 0.],\n",
      "         [0., 0., 0., 0.],\n",
      "         [0., 0., 0., 0.],\n",
      "         [0., 0., 0., 0.]]])\n"
     ]
    }
   ],
   "source": [
    "a=torch.Size([2,5,4])\n",
    "b=torch.randn(a)\n",
    "c=torch.zeros(a)\n",
    "print(b)\n",
    "print(c)"
   ]
  },
  {
   "cell_type": "code",
   "execution_count": 144,
   "metadata": {},
   "outputs": [
    {
     "data": {
      "text/plain": [
       "tensor([[[1., 1.],\n",
       "         [1., 1.]],\n",
       "\n",
       "        [[1., 1.],\n",
       "         [1., 1.]],\n",
       "\n",
       "        [[1., 1.],\n",
       "         [1., 1.]],\n",
       "\n",
       "        [[1., 1.],\n",
       "         [1., 1.]]])"
      ]
     },
     "execution_count": 144,
     "metadata": {},
     "output_type": "execute_result"
    }
   ],
   "source": [
    "d=torch.ones(16).reshape(4,2,-1)\n",
    "d"
   ]
  },
  {
   "cell_type": "code",
   "execution_count": 145,
   "metadata": {},
   "outputs": [
    {
     "data": {
      "text/plain": [
       "tensor([[[0.9461, 0.0460],\n",
       "         [0.3758, 0.2398]],\n",
       "\n",
       "        [[0.4041, 0.0754],\n",
       "         [0.4190, 0.7825]],\n",
       "\n",
       "        [[0.9752, 0.4452],\n",
       "         [0.5416, 0.2265]],\n",
       "\n",
       "        [[0.9034, 0.7251],\n",
       "         [0.2865, 0.9684]]])"
      ]
     },
     "execution_count": 145,
     "metadata": {},
     "output_type": "execute_result"
    }
   ],
   "source": [
    "e=torch.rand_like(d)\n",
    "e"
   ]
  },
  {
   "cell_type": "markdown",
   "metadata": {},
   "source": [
    "###  3.3 randn and normal\n",
    "$randn：标准正态分布 N(0,1)$\n",
    "\n",
    "$normal:均值为mean，方差为std的正态分布：N(u,std)$"
   ]
  },
  {
   "cell_type": "code",
   "execution_count": 147,
   "metadata": {},
   "outputs": [
    {
     "data": {
      "text/plain": [
       "tensor([[-1.6935, -0.4004, -2.9485],\n",
       "        [ 0.4336, -0.0613, -0.0951],\n",
       "        [-0.5132,  0.6032,  0.2894]])"
      ]
     },
     "execution_count": 147,
     "metadata": {},
     "output_type": "execute_result"
    }
   ],
   "source": [
    "a=torch.randn(3,3)\n",
    "a"
   ]
  },
  {
   "cell_type": "code",
   "execution_count": 154,
   "metadata": {},
   "outputs": [
    {
     "data": {
      "text/plain": [
       "tensor([-1.6935, -0.4004, -2.9485,  0.4336, -0.0613, -0.0951, -0.5132,  0.6032,\n",
       "         0.2894])"
      ]
     },
     "execution_count": 154,
     "metadata": {},
     "output_type": "execute_result"
    }
   ],
   "source": [
    "a_sum=a.reshape(9)\n",
    "a_sum"
   ]
  },
  {
   "cell_type": "code",
   "execution_count": 156,
   "metadata": {},
   "outputs": [
    {
     "data": {
      "text/plain": [
       "tensor(-4.3859)"
      ]
     },
     "execution_count": 156,
     "metadata": {},
     "output_type": "execute_result"
    }
   ],
   "source": [
    "a_sum=a_sum.sum()#数据量大时sum接近0\n",
    "a_sum"
   ]
  },
  {
   "cell_type": "code",
   "execution_count": 162,
   "metadata": {},
   "outputs": [
    {
     "data": {
      "text/plain": [
       "tensor([-2.4830,  0.6692,  0.1537, -0.6566,  0.3903,  0.8072, -0.1299, -0.0375,\n",
       "        -0.1777,  0.0933])"
      ]
     },
     "execution_count": 162,
     "metadata": {},
     "output_type": "execute_result"
    }
   ],
   "source": [
    "torch.normal(mean=torch.full([10],0).float(),std=torch.arange(1,0,-0.1).float())#normal中mean和std必须为浮点类型"
   ]
  },
  {
   "cell_type": "markdown",
   "metadata": {},
   "source": [
    "### 3.4 full,arange,range,linspace,logspace,ones,zeros,eye "
   ]
  },
  {
   "cell_type": "code",
   "execution_count": 163,
   "metadata": {},
   "outputs": [
    {
     "data": {
      "text/plain": [
       "tensor([[8, 8, 8],\n",
       "        [8, 8, 8]])"
      ]
     },
     "execution_count": 163,
     "metadata": {},
     "output_type": "execute_result"
    }
   ],
   "source": [
    "torch.full([2,3],8)"
   ]
  },
  {
   "cell_type": "code",
   "execution_count": 164,
   "metadata": {},
   "outputs": [
    {
     "data": {
      "text/plain": [
       "tensor([[[7, 7, 7, 7, 7],\n",
       "         [7, 7, 7, 7, 7],\n",
       "         [7, 7, 7, 7, 7]],\n",
       "\n",
       "        [[7, 7, 7, 7, 7],\n",
       "         [7, 7, 7, 7, 7],\n",
       "         [7, 7, 7, 7, 7]]])"
      ]
     },
     "execution_count": 164,
     "metadata": {},
     "output_type": "execute_result"
    }
   ],
   "source": [
    "torch.full([2,3,5],7)"
   ]
  },
  {
   "cell_type": "code",
   "execution_count": 165,
   "metadata": {},
   "outputs": [
    {
     "data": {
      "text/plain": [
       "tensor([1, 2, 3, 4, 5, 6, 7, 8, 9])"
      ]
     },
     "execution_count": 165,
     "metadata": {},
     "output_type": "execute_result"
    }
   ],
   "source": [
    "torch.arange(1,10)"
   ]
  },
  {
   "cell_type": "code",
   "execution_count": 166,
   "metadata": {},
   "outputs": [
    {
     "name": "stderr",
     "output_type": "stream",
     "text": [
      "<ipython-input-166-a2647884754e>:1: UserWarning: torch.range is deprecated and will be removed in a future release because its behavior is inconsistent with Python's range builtin. Instead, use torch.arange, which produces values in [start, end).\n",
      "  torch.range(1,10)\n"
     ]
    },
    {
     "data": {
      "text/plain": [
       "tensor([ 1.,  2.,  3.,  4.,  5.,  6.,  7.,  8.,  9., 10.])"
      ]
     },
     "execution_count": 166,
     "metadata": {},
     "output_type": "execute_result"
    }
   ],
   "source": [
    "torch.range(1,10)#torch中被弃用"
   ]
  },
  {
   "cell_type": "code",
   "execution_count": 167,
   "metadata": {},
   "outputs": [
    {
     "data": {
      "text/plain": [
       "tensor([1, 3, 5, 7, 9])"
      ]
     },
     "execution_count": 167,
     "metadata": {},
     "output_type": "execute_result"
    }
   ],
   "source": [
    "torch.arange(1,10,2)"
   ]
  },
  {
   "cell_type": "code",
   "execution_count": 169,
   "metadata": {},
   "outputs": [
    {
     "data": {
      "text/plain": [
       "torch.Size([5])"
      ]
     },
     "execution_count": 169,
     "metadata": {},
     "output_type": "execute_result"
    }
   ],
   "source": [
    "torch.arange(1,10,2).float().size()"
   ]
  },
  {
   "cell_type": "code",
   "execution_count": 172,
   "metadata": {},
   "outputs": [
    {
     "data": {
      "text/plain": [
       "tensor([ 0., 10.])"
      ]
     },
     "execution_count": 172,
     "metadata": {},
     "output_type": "execute_result"
    }
   ],
   "source": [
    "torch.linspace(0,10,2)"
   ]
  },
  {
   "cell_type": "code",
   "execution_count": 173,
   "metadata": {},
   "outputs": [
    {
     "data": {
      "text/plain": [
       "tensor([ 0., 10.])"
      ]
     },
     "execution_count": 173,
     "metadata": {},
     "output_type": "execute_result"
    }
   ],
   "source": [
    "torch.linspace(0,10,steps=2)"
   ]
  },
  {
   "cell_type": "code",
   "execution_count": 174,
   "metadata": {},
   "outputs": [
    {
     "data": {
      "text/plain": [
       "tensor([ 0.,  1.,  2.,  3.,  4.,  5.,  6.,  7.,  8.,  9., 10.])"
      ]
     },
     "execution_count": 174,
     "metadata": {},
     "output_type": "execute_result"
    }
   ],
   "source": [
    "torch.linspace(0,10,11)"
   ]
  },
  {
   "cell_type": "markdown",
   "metadata": {},
   "source": [
    "torch.logspace(0,-1,11)  means $10^0,10^{-0.1},...,10^{-1}$"
   ]
  },
  {
   "cell_type": "code",
   "execution_count": 176,
   "metadata": {},
   "outputs": [
    {
     "data": {
      "text/plain": [
       "tensor([1.0000, 0.7743, 0.5995, 0.4642, 0.3594, 0.2783, 0.2154, 0.1668, 0.1292,\n",
       "        0.1000])"
      ]
     },
     "execution_count": 176,
     "metadata": {},
     "output_type": "execute_result"
    }
   ],
   "source": [
    "torch.logspace(0,-1,10)"
   ]
  },
  {
   "cell_type": "code",
   "execution_count": 177,
   "metadata": {},
   "outputs": [
    {
     "data": {
      "text/plain": [
       "tensor([[1., 0., 0.],\n",
       "        [0., 1., 0.],\n",
       "        [0., 0., 1.]])"
      ]
     },
     "execution_count": 177,
     "metadata": {},
     "output_type": "execute_result"
    }
   ],
   "source": [
    "torch.eye(3)"
   ]
  },
  {
   "cell_type": "markdown",
   "metadata": {},
   "source": [
    "## 4 torch的索引与切片"
   ]
  },
  {
   "cell_type": "markdown",
   "metadata": {},
   "source": [
    "### 4.1  ,  :  ::  ..."
   ]
  },
  {
   "cell_type": "code",
   "execution_count": 181,
   "metadata": {},
   "outputs": [
    {
     "data": {
      "text/plain": [
       "torch.Size([4, 3, 28, 28])"
      ]
     },
     "execution_count": 181,
     "metadata": {},
     "output_type": "execute_result"
    }
   ],
   "source": [
    "a=torch.rand(4,3,28,28)\n",
    "a.shape"
   ]
  },
  {
   "cell_type": "code",
   "execution_count": 182,
   "metadata": {},
   "outputs": [
    {
     "data": {
      "text/plain": [
       "torch.Size([3, 28, 28])"
      ]
     },
     "execution_count": 182,
     "metadata": {},
     "output_type": "execute_result"
    }
   ],
   "source": [
    "a[0].shape"
   ]
  },
  {
   "cell_type": "code",
   "execution_count": 183,
   "metadata": {},
   "outputs": [
    {
     "data": {
      "text/plain": [
       "torch.Size([28, 28])"
      ]
     },
     "execution_count": 183,
     "metadata": {},
     "output_type": "execute_result"
    }
   ],
   "source": [
    "a[0,0].shape"
   ]
  },
  {
   "cell_type": "code",
   "execution_count": 184,
   "metadata": {},
   "outputs": [
    {
     "data": {
      "text/plain": [
       "torch.Size([])"
      ]
     },
     "execution_count": 184,
     "metadata": {},
     "output_type": "execute_result"
    }
   ],
   "source": [
    "a[0,0,0,0].shape"
   ]
  },
  {
   "cell_type": "code",
   "execution_count": 186,
   "metadata": {},
   "outputs": [
    {
     "data": {
      "text/plain": [
       "0"
      ]
     },
     "execution_count": 186,
     "metadata": {},
     "output_type": "execute_result"
    }
   ],
   "source": [
    "a[1,1,1,1].dim()"
   ]
  },
  {
   "cell_type": "code",
   "execution_count": 188,
   "metadata": {},
   "outputs": [
    {
     "data": {
      "text/plain": [
       "torch.Size([2, 3, 28, 28])"
      ]
     },
     "execution_count": 188,
     "metadata": {},
     "output_type": "execute_result"
    }
   ],
   "source": [
    "a[:2].shape # 不包含2"
   ]
  },
  {
   "cell_type": "code",
   "execution_count": 189,
   "metadata": {},
   "outputs": [
    {
     "data": {
      "text/plain": [
       "torch.Size([2, 2, 28, 28])"
      ]
     },
     "execution_count": 189,
     "metadata": {},
     "output_type": "execute_result"
    }
   ],
   "source": [
    "a[:2,:2].shape"
   ]
  },
  {
   "cell_type": "code",
   "execution_count": 191,
   "metadata": {},
   "outputs": [
    {
     "data": {
      "text/plain": [
       "torch.Size([2, 1, 28, 28])"
      ]
     },
     "execution_count": 191,
     "metadata": {},
     "output_type": "execute_result"
    }
   ],
   "source": [
    "a[:2,:1,:,:].shape"
   ]
  },
  {
   "cell_type": "code",
   "execution_count": 193,
   "metadata": {},
   "outputs": [
    {
     "data": {
      "text/plain": [
       "torch.Size([3, 3, 28, 28])"
      ]
     },
     "execution_count": 193,
     "metadata": {},
     "output_type": "execute_result"
    }
   ],
   "source": [
    "a[:-1].shape"
   ]
  },
  {
   "cell_type": "code",
   "execution_count": 194,
   "metadata": {},
   "outputs": [
    {
     "data": {
      "text/plain": [
       "torch.Size([1, 3, 28, 28])"
      ]
     },
     "execution_count": 194,
     "metadata": {},
     "output_type": "execute_result"
    }
   ],
   "source": [
    "a[:-3].shape"
   ]
  },
  {
   "cell_type": "code",
   "execution_count": 195,
   "metadata": {},
   "outputs": [
    {
     "data": {
      "text/plain": [
       "torch.Size([4, 3, 14, 2])"
      ]
     },
     "execution_count": 195,
     "metadata": {},
     "output_type": "execute_result"
    }
   ],
   "source": [
    "a[:,:,0:28:2,0:4:2].shape"
   ]
  },
  {
   "cell_type": "code",
   "execution_count": 196,
   "metadata": {},
   "outputs": [
    {
     "data": {
      "text/plain": [
       "torch.Size([2, 3, 28, 14])"
      ]
     },
     "execution_count": 196,
     "metadata": {},
     "output_type": "execute_result"
    }
   ],
   "source": [
    "a[::2,:,:,::2].shape"
   ]
  },
  {
   "cell_type": "code",
   "execution_count": 206,
   "metadata": {},
   "outputs": [
    {
     "data": {
      "text/plain": [
       "tensor([ 0,  1,  2,  3,  4,  5,  6,  7,  8,  9, 10, 11, 12, 13])"
      ]
     },
     "execution_count": 206,
     "metadata": {},
     "output_type": "execute_result"
    }
   ],
   "source": [
    "torch.arange(14)"
   ]
  },
  {
   "cell_type": "code",
   "execution_count": 207,
   "metadata": {},
   "outputs": [
    {
     "data": {
      "text/plain": [
       "torch.Size([4, 3, 28, 28])"
      ]
     },
     "execution_count": 207,
     "metadata": {},
     "output_type": "execute_result"
    }
   ],
   "source": [
    "a[...].shape"
   ]
  },
  {
   "cell_type": "code",
   "execution_count": 208,
   "metadata": {},
   "outputs": [
    {
     "data": {
      "text/plain": [
       "torch.Size([3, 28, 28])"
      ]
     },
     "execution_count": 208,
     "metadata": {},
     "output_type": "execute_result"
    }
   ],
   "source": [
    "a[1,...].shape"
   ]
  },
  {
   "cell_type": "markdown",
   "metadata": {},
   "source": [
    "### 4.2 index_select,mask,take"
   ]
  },
  {
   "cell_type": "code",
   "execution_count": 204,
   "metadata": {},
   "outputs": [
    {
     "data": {
      "text/plain": [
       "torch.Size([4, 3, 28, 14])"
      ]
     },
     "execution_count": 204,
     "metadata": {},
     "output_type": "execute_result"
    }
   ],
   "source": [
    "a.index_select(3,torch.arange(14)).shape #某指定维度索引"
   ]
  },
  {
   "cell_type": "code",
   "execution_count": 203,
   "metadata": {},
   "outputs": [
    {
     "data": {
      "text/plain": [
       "torch.Size([4, 2, 28, 28])"
      ]
     },
     "execution_count": 203,
     "metadata": {},
     "output_type": "execute_result"
    }
   ],
   "source": [
    "a.index_select(1,torch.arange(2)).shape"
   ]
  },
  {
   "cell_type": "code",
   "execution_count": 211,
   "metadata": {},
   "outputs": [
    {
     "data": {
      "text/plain": [
       "tensor([[-0.5267,  1.0655, -0.0044, -0.9527],\n",
       "        [-0.2434,  0.9681,  0.9670, -0.0776],\n",
       "        [-0.0058,  0.1203,  0.1239, -0.3819]])"
      ]
     },
     "execution_count": 211,
     "metadata": {},
     "output_type": "execute_result"
    }
   ],
   "source": [
    "x=torch.randn(3,4)\n",
    "x"
   ]
  },
  {
   "cell_type": "code",
   "execution_count": 213,
   "metadata": {},
   "outputs": [
    {
     "data": {
      "text/plain": [
       "tensor([[False,  True, False, False],\n",
       "        [False,  True,  True, False],\n",
       "        [False, False, False, False]])"
      ]
     },
     "execution_count": 213,
     "metadata": {},
     "output_type": "execute_result"
    }
   ],
   "source": [
    "mask=x.ge(0.5)\n",
    "mask"
   ]
  },
  {
   "cell_type": "code",
   "execution_count": 220,
   "metadata": {},
   "outputs": [
    {
     "data": {
      "text/plain": [
       "tensor([1.0655, 0.9681, 0.9670])"
      ]
     },
     "execution_count": 220,
     "metadata": {},
     "output_type": "execute_result"
    }
   ],
   "source": [
    "torch.masked_select(x,mask)   #索引mask=true的值"
   ]
  },
  {
   "cell_type": "code",
   "execution_count": 218,
   "metadata": {},
   "outputs": [
    {
     "data": {
      "text/plain": [
       "tensor([[ 4,  5,  6],\n",
       "        [ 7,  8,  9],\n",
       "        [10, 11, 12]])"
      ]
     },
     "execution_count": 218,
     "metadata": {},
     "output_type": "execute_result"
    }
   ],
   "source": [
    "a=torch.tensor([[4,5,6],[7,8,9],[10,11,12]])\n",
    "a"
   ]
  },
  {
   "cell_type": "code",
   "execution_count": 219,
   "metadata": {},
   "outputs": [
    {
     "data": {
      "text/plain": [
       "tensor([ 5,  8, 11])"
      ]
     },
     "execution_count": 219,
     "metadata": {},
     "output_type": "execute_result"
    }
   ],
   "source": [
    "torch.take(a,torch.tensor([1,4,7]))  #维度展开后索引"
   ]
  },
  {
   "cell_type": "markdown",
   "metadata": {},
   "source": [
    "## 5.维度变换"
   ]
  },
  {
   "cell_type": "markdown",
   "metadata": {},
   "source": [
    "### 5.1 view reshape"
   ]
  },
  {
   "cell_type": "code",
   "execution_count": 221,
   "metadata": {},
   "outputs": [
    {
     "data": {
      "text/plain": [
       "torch.Size([4, 1, 28, 28])"
      ]
     },
     "execution_count": 221,
     "metadata": {},
     "output_type": "execute_result"
    }
   ],
   "source": [
    "a=torch.rand(4,1,28,28)\n",
    "a.shape"
   ]
  },
  {
   "cell_type": "code",
   "execution_count": 223,
   "metadata": {},
   "outputs": [
    {
     "data": {
      "text/plain": [
       "torch.Size([4, 1, 784])"
      ]
     },
     "execution_count": 223,
     "metadata": {},
     "output_type": "execute_result"
    }
   ],
   "source": [
    "a.reshape(4,1,-1).shape"
   ]
  },
  {
   "cell_type": "code",
   "execution_count": 225,
   "metadata": {},
   "outputs": [
    {
     "data": {
      "text/plain": [
       "torch.Size([4, 784])"
      ]
     },
     "execution_count": 225,
     "metadata": {},
     "output_type": "execute_result"
    }
   ],
   "source": [
    "a.view(4,-1).shape"
   ]
  },
  {
   "cell_type": "code",
   "execution_count": 226,
   "metadata": {},
   "outputs": [
    {
     "data": {
      "text/plain": [
       "torch.Size([112, 28])"
      ]
     },
     "execution_count": 226,
     "metadata": {},
     "output_type": "execute_result"
    }
   ],
   "source": [
    "a.reshape(-1,28).shape"
   ]
  },
  {
   "cell_type": "code",
   "execution_count": 228,
   "metadata": {},
   "outputs": [
    {
     "data": {
      "text/plain": [
       "torch.Size([112, 28])"
      ]
     },
     "execution_count": 228,
     "metadata": {},
     "output_type": "execute_result"
    }
   ],
   "source": [
    "a.view(-1,28).shape"
   ]
  },
  {
   "cell_type": "markdown",
   "metadata": {},
   "source": [
    "### 5.2 squeeze unsqueeze"
   ]
  },
  {
   "cell_type": "code",
   "execution_count": 229,
   "metadata": {},
   "outputs": [
    {
     "data": {
      "text/plain": [
       "torch.Size([4, 1, 28, 28])"
      ]
     },
     "execution_count": 229,
     "metadata": {},
     "output_type": "execute_result"
    }
   ],
   "source": [
    "a.shape"
   ]
  },
  {
   "cell_type": "code",
   "execution_count": 232,
   "metadata": {},
   "outputs": [
    {
     "name": "stdout",
     "output_type": "stream",
     "text": [
      "torch.Size([1, 4, 1, 28, 28])\n",
      "torch.Size([4, 1, 1, 28, 28])\n",
      "torch.Size([4, 1, 28, 28, 1])\n"
     ]
    }
   ],
   "source": [
    "print(a.unsqueeze(0).shape)\n",
    "print(a.unsqueeze(1).shape)\n",
    "print(a.unsqueeze(4).shape)"
   ]
  },
  {
   "cell_type": "code",
   "execution_count": 233,
   "metadata": {},
   "outputs": [
    {
     "name": "stdout",
     "output_type": "stream",
     "text": [
      "torch.Size([4, 1, 28, 28, 1])\n",
      "torch.Size([4, 1, 28, 1, 28])\n",
      "torch.Size([4, 1, 1, 28, 28])\n"
     ]
    }
   ],
   "source": [
    "print(a.unsqueeze(-1).shape)\n",
    "print(a.unsqueeze(-2).shape)\n",
    "print(a.unsqueeze(-4).shape)"
   ]
  },
  {
   "cell_type": "code",
   "execution_count": 238,
   "metadata": {},
   "outputs": [
    {
     "name": "stdout",
     "output_type": "stream",
     "text": [
      "torch.Size([8])\n"
     ]
    },
    {
     "data": {
      "text/plain": [
       "tensor([1, 2, 3, 4, 5, 6, 7, 8])"
      ]
     },
     "execution_count": 238,
     "metadata": {},
     "output_type": "execute_result"
    }
   ],
   "source": [
    "b=torch.tensor([1,2,3,4,5,6,7,8])\n",
    "print(b.shape)\n",
    "b"
   ]
  },
  {
   "cell_type": "code",
   "execution_count": 239,
   "metadata": {},
   "outputs": [
    {
     "name": "stdout",
     "output_type": "stream",
     "text": [
      "tensor([[1],\n",
      "        [2],\n",
      "        [3],\n",
      "        [4],\n",
      "        [5],\n",
      "        [6],\n",
      "        [7],\n",
      "        [8]])\n",
      "tensor([[1, 2, 3, 4, 5, 6, 7, 8]])\n"
     ]
    }
   ],
   "source": [
    "print(b.unsqueeze(1))\n",
    "print(b.unsqueeze(0))"
   ]
  },
  {
   "cell_type": "code",
   "execution_count": 251,
   "metadata": {},
   "outputs": [
    {
     "name": "stdout",
     "output_type": "stream",
     "text": [
      "torch.Size([1, 1, 1, 1, 28, 1])\n",
      "torch.Size([1, 1, 1, 1, 28, 1])\n"
     ]
    }
   ],
   "source": [
    "print(b.unsqueeze(1).unsqueeze(2).shape)\n",
    "#print(b.unsqueeze(1).unsqueeze(2))\n",
    "print(b.unsqueeze(0).unsqueeze(1).shape)\n",
    "#print(b.unsqueeze(0).unsqueeze(2))"
   ]
  },
  {
   "cell_type": "code",
   "execution_count": 246,
   "metadata": {},
   "outputs": [
    {
     "name": "stdout",
     "output_type": "stream",
     "text": [
      "torch.Size([4, 1, 28, 28])\n",
      "torch.Size([4, 28, 28])\n",
      "torch.Size([4, 28, 28])\n",
      "torch.Size([4, 28, 28])\n"
     ]
    }
   ],
   "source": [
    "print(a.shape)\n",
    "print(a.squeeze().shape)\n",
    "print(a.squeeze().squeeze().shape)\n",
    "print(a.squeeze(1).shape)"
   ]
  },
  {
   "cell_type": "code",
   "execution_count": 250,
   "metadata": {},
   "outputs": [
    {
     "name": "stdout",
     "output_type": "stream",
     "text": [
      "torch.Size([1, 1, 28, 1])\n",
      "torch.Size([28])\n",
      "torch.Size([1, 28, 1])\n"
     ]
    }
   ],
   "source": [
    "b=torch.randn(1,1,28,1)\n",
    "print(b.shape)\n",
    "print(b.squeeze().shape)\n",
    "print(b.squeeze(1).shape)"
   ]
  },
  {
   "cell_type": "markdown",
   "metadata": {},
   "source": [
    "### 5.3 expand,repeat"
   ]
  },
  {
   "cell_type": "code",
   "execution_count": 253,
   "metadata": {},
   "outputs": [
    {
     "name": "stdout",
     "output_type": "stream",
     "text": [
      "torch.Size([1, 1, 28, 1])\n",
      "torch.Size([4, 2, 28, 2])\n"
     ]
    }
   ],
   "source": [
    "print(b.shape)\n",
    "print(b.expand(4,2,28,2).shape) # only 1 can expand"
   ]
  },
  {
   "cell_type": "code",
   "execution_count": 261,
   "metadata": {},
   "outputs": [
    {
     "name": "stdout",
     "output_type": "stream",
     "text": [
      "torch.Size([1, 2, 3])\n",
      "tensor([[[1, 2, 3],\n",
      "         [4, 5, 6]]])\n",
      "torch.Size([2, 2, 3])\n",
      "tensor([[[1, 2, 3],\n",
      "         [4, 5, 6]],\n",
      "\n",
      "        [[1, 2, 3],\n",
      "         [4, 5, 6]]])\n",
      "torch.Size([4, 2, 3])\n",
      "tensor([[[1, 2, 3],\n",
      "         [4, 5, 6]],\n",
      "\n",
      "        [[1, 2, 3],\n",
      "         [4, 5, 6]],\n",
      "\n",
      "        [[1, 2, 3],\n",
      "         [4, 5, 6]],\n",
      "\n",
      "        [[1, 2, 3],\n",
      "         [4, 5, 6]]])\n"
     ]
    }
   ],
   "source": [
    "a=torch.tensor([[[1,2,3],[4,5,6]]])\n",
    "print(a.shape)\n",
    "print(a)\n",
    "print(a.expand(2,2,3).shape)\n",
    "print(a.expand(2,2,3))\n",
    "print(a.expand(4,2,3).shape)\n",
    "print(a.expand(4,2,3))"
   ]
  },
  {
   "cell_type": "code",
   "execution_count": 272,
   "metadata": {},
   "outputs": [
    {
     "name": "stdout",
     "output_type": "stream",
     "text": [
      "torch.Size([1, 2, 3])\n",
      "tensor([[[-0.8392, -0.7886, -1.1528],\n",
      "         [ 0.1487,  0.5555, -0.0434]]])\n",
      "torch.Size([1, 4, 3])\n",
      "<built-in method repeat of Tensor object at 0x000001F6D755B900>\n",
      "torch.Size([9, 18, 27])\n"
     ]
    }
   ],
   "source": [
    "a=torch.randn(1,2,3)\n",
    "print(a.shape)\n",
    "print(a)\n",
    "print(a.repeat(1,2,1).shape)\n",
    "print(a.repeat)\n",
    "print(a.repeat(9,9,9).shape)"
   ]
  },
  {
   "cell_type": "code",
   "execution_count": 271,
   "metadata": {},
   "outputs": [
    {
     "data": {
      "text/plain": [
       "tensor([[[-1.7835,  0.5557,  0.1043, -1.7835,  0.5557,  0.1043],\n",
       "         [ 0.4131, -0.0029, -0.3700,  0.4131, -0.0029, -0.3700],\n",
       "         [-1.7835,  0.5557,  0.1043, -1.7835,  0.5557,  0.1043],\n",
       "         [ 0.4131, -0.0029, -0.3700,  0.4131, -0.0029, -0.3700]]])"
      ]
     },
     "execution_count": 271,
     "metadata": {},
     "output_type": "execute_result"
    }
   ],
   "source": [
    "a.repeat(1,2,2)"
   ]
  },
  {
   "cell_type": "markdown",
   "metadata": {},
   "source": [
    "### 5.4 .t() ,transpose,permute"
   ]
  },
  {
   "cell_type": "code",
   "execution_count": 273,
   "metadata": {},
   "outputs": [
    {
     "name": "stdout",
     "output_type": "stream",
     "text": [
      "torch.Size([2, 3])\n",
      "tensor([[0.5800, 0.4139, 0.1943],\n",
      "        [0.0064, 0.9427, 0.5836]])\n",
      "torch.Size([3, 2])\n",
      "tensor([[0.5800, 0.0064],\n",
      "        [0.4139, 0.9427],\n",
      "        [0.1943, 0.5836]])\n"
     ]
    }
   ],
   "source": [
    "a=torch.rand(2,3)\n",
    "print(a.shape)\n",
    "print(a)\n",
    "b=a.t()  # only dim=2 \n",
    "print(b.shape)\n",
    "print(b)"
   ]
  },
  {
   "cell_type": "code",
   "execution_count": 276,
   "metadata": {},
   "outputs": [
    {
     "name": "stdout",
     "output_type": "stream",
     "text": [
      "torch.Size([2, 3, 4])\n",
      "tensor([[[0.0052, 0.9206, 0.4317, 0.8881],\n",
      "         [0.2445, 0.8495, 0.8199, 0.1946],\n",
      "         [0.6700, 0.0704, 0.7777, 0.5099]],\n",
      "\n",
      "        [[0.1988, 0.8661, 0.3730, 0.5906],\n",
      "         [0.6488, 0.8544, 0.2441, 0.9657],\n",
      "         [0.9828, 0.6743, 0.6026, 0.0899]]])\n",
      "torch.Size([3, 2, 4])\n",
      "tensor([[[0.0052, 0.9206, 0.4317, 0.8881],\n",
      "         [0.1988, 0.8661, 0.3730, 0.5906]],\n",
      "\n",
      "        [[0.2445, 0.8495, 0.8199, 0.1946],\n",
      "         [0.6488, 0.8544, 0.2441, 0.9657]],\n",
      "\n",
      "        [[0.6700, 0.0704, 0.7777, 0.5099],\n",
      "         [0.9828, 0.6743, 0.6026, 0.0899]]])\n",
      "tensor([[[0.0052, 0.2445, 0.6700],\n",
      "         [0.9206, 0.8495, 0.0704],\n",
      "         [0.4317, 0.8199, 0.7777],\n",
      "         [0.8881, 0.1946, 0.5099]],\n",
      "\n",
      "        [[0.1988, 0.6488, 0.9828],\n",
      "         [0.8661, 0.8544, 0.6743],\n",
      "         [0.3730, 0.2441, 0.6026],\n",
      "         [0.5906, 0.9657, 0.0899]]])\n",
      "tensor([[[0.0052, 0.1988],\n",
      "         [0.2445, 0.6488],\n",
      "         [0.6700, 0.9828]],\n",
      "\n",
      "        [[0.9206, 0.8661],\n",
      "         [0.8495, 0.8544],\n",
      "         [0.0704, 0.6743]],\n",
      "\n",
      "        [[0.4317, 0.3730],\n",
      "         [0.8199, 0.2441],\n",
      "         [0.7777, 0.6026]],\n",
      "\n",
      "        [[0.8881, 0.5906],\n",
      "         [0.1946, 0.9657],\n",
      "         [0.5099, 0.0899]]])\n"
     ]
    }
   ],
   "source": [
    "a=torch.rand(2,3,4)\n",
    "print(a.shape)\n",
    "print(a)\n",
    "print(a.transpose(0,1).shape)\n",
    "print(a.transpose(0,1))\n",
    "print(a.transpose(1,2))\n",
    "print(a.transpose(0,2))"
   ]
  },
  {
   "cell_type": "code",
   "execution_count": 277,
   "metadata": {},
   "outputs": [
    {
     "name": "stdout",
     "output_type": "stream",
     "text": [
      "torch.Size([4, 3, 30, 20])\n",
      "torch.Size([30, 20, 4, 3])\n"
     ]
    }
   ],
   "source": [
    "a=torch.randn(4,3,20,30)\n",
    "print(a.permute(0,1,3,2).shape)\n",
    "print(a.permute(3,2,0,1).shape)"
   ]
  },
  {
   "cell_type": "markdown",
   "metadata": {},
   "source": [
    "### 5.5  broadcast"
   ]
  },
  {
   "cell_type": "code",
   "execution_count": 289,
   "metadata": {},
   "outputs": [
    {
     "name": "stdout",
     "output_type": "stream",
     "text": [
      "tensor([[0.8942, 0.1815, 0.4194, 0.5685],\n",
      "        [0.1121, 0.7411, 0.8037, 0.8524],\n",
      "        [0.8681, 0.8058, 0.0953, 0.9633]])\n",
      "tensor([[1.8942, 1.1815, 1.4194, 1.5685],\n",
      "        [1.1121, 1.7411, 1.8037, 1.8524],\n",
      "        [1.8681, 1.8058, 1.0953, 1.9633]])\n"
     ]
    },
    {
     "data": {
      "text/plain": [
       "tensor([[1, 1],\n",
       "        [1, 1],\n",
       "        [1, 1]])"
      ]
     },
     "execution_count": 289,
     "metadata": {},
     "output_type": "execute_result"
    }
   ],
   "source": [
    "a=torch.rand(3,4)\n",
    "b=torch.tensor([1])\n",
    "print(a)\n",
    "print(a+b)   #torch中的自动广播机制\n",
    "c=torch.broadcast_to(b,(3,2))\n",
    "c"
   ]
  },
  {
   "cell_type": "markdown",
   "metadata": {},
   "source": [
    "## 6.合并与拆分"
   ]
  },
  {
   "cell_type": "markdown",
   "metadata": {},
   "source": [
    "### 6.1 cat"
   ]
  },
  {
   "cell_type": "code",
   "execution_count": 296,
   "metadata": {},
   "outputs": [
    {
     "name": "stdout",
     "output_type": "stream",
     "text": [
      "torch.Size([7, 3, 20, 20])\n",
      "###########fengexian########\n",
      "tensor([[[0.5109, 0.1396, 0.9074, 0.2790],\n",
      "         [0.3971, 0.7016, 0.9302, 0.9818],\n",
      "         [0.3332, 0.6391, 0.7833, 0.0312]],\n",
      "\n",
      "        [[0.4689, 0.9542, 0.8254, 0.2534],\n",
      "         [0.5163, 0.3067, 0.6053, 0.5841],\n",
      "         [0.7934, 0.0980, 0.6390, 0.6861]]])\n",
      "torch.Size([4, 3, 4])\n",
      "tensor([[[0.5109, 0.1396, 0.9074, 0.2790],\n",
      "         [0.3971, 0.7016, 0.9302, 0.9818],\n",
      "         [0.3332, 0.6391, 0.7833, 0.0312]],\n",
      "\n",
      "        [[0.4689, 0.9542, 0.8254, 0.2534],\n",
      "         [0.5163, 0.3067, 0.6053, 0.5841],\n",
      "         [0.7934, 0.0980, 0.6390, 0.6861]],\n",
      "\n",
      "        [[0.0000, 0.0000, 0.0000, 0.0000],\n",
      "         [0.0000, 0.0000, 0.0000, 0.0000],\n",
      "         [0.0000, 0.0000, 0.0000, 0.0000]],\n",
      "\n",
      "        [[0.0000, 0.0000, 0.0000, 0.0000],\n",
      "         [0.0000, 0.0000, 0.0000, 0.0000],\n",
      "         [0.0000, 0.0000, 0.0000, 0.0000]]])\n",
      "torch.Size([2, 6, 4])\n",
      "tensor([[[0.5109, 0.1396, 0.9074, 0.2790],\n",
      "         [0.3971, 0.7016, 0.9302, 0.9818],\n",
      "         [0.3332, 0.6391, 0.7833, 0.0312],\n",
      "         [0.0000, 0.0000, 0.0000, 0.0000],\n",
      "         [0.0000, 0.0000, 0.0000, 0.0000],\n",
      "         [0.0000, 0.0000, 0.0000, 0.0000]],\n",
      "\n",
      "        [[0.4689, 0.9542, 0.8254, 0.2534],\n",
      "         [0.5163, 0.3067, 0.6053, 0.5841],\n",
      "         [0.7934, 0.0980, 0.6390, 0.6861],\n",
      "         [0.0000, 0.0000, 0.0000, 0.0000],\n",
      "         [0.0000, 0.0000, 0.0000, 0.0000],\n",
      "         [0.0000, 0.0000, 0.0000, 0.0000]]])\n",
      "torch.Size([2, 3, 8])\n",
      "tensor([[[0.5109, 0.1396, 0.9074, 0.2790, 0.0000, 0.0000, 0.0000, 0.0000],\n",
      "         [0.3971, 0.7016, 0.9302, 0.9818, 0.0000, 0.0000, 0.0000, 0.0000],\n",
      "         [0.3332, 0.6391, 0.7833, 0.0312, 0.0000, 0.0000, 0.0000, 0.0000]],\n",
      "\n",
      "        [[0.4689, 0.9542, 0.8254, 0.2534, 0.0000, 0.0000, 0.0000, 0.0000],\n",
      "         [0.5163, 0.3067, 0.6053, 0.5841, 0.0000, 0.0000, 0.0000, 0.0000],\n",
      "         [0.7934, 0.0980, 0.6390, 0.6861, 0.0000, 0.0000, 0.0000, 0.0000]]])\n"
     ]
    }
   ],
   "source": [
    "a1=torch.rand(4,3,20,20)\n",
    "a2=torch.rand(3,3,20,20)\n",
    "print(torch.cat([a1,a2],dim=0).shape)\n",
    "print(\"###########fengexian########\")\n",
    "a1=torch.rand(2,3,4)\n",
    "print(a1)\n",
    "a2=torch.zeros(2,3,4)\n",
    "print(torch.cat([a1,a2],dim=0).shape)\n",
    "print(torch.cat([a1,a2],dim=0))\n",
    "print(torch.cat([a1,a2],dim=1).shape)\n",
    "print(torch.cat([a1,a2],dim=1))\n",
    "print(torch.cat([a1,a2],dim=2).shape)\n",
    "print(torch.cat([a1,a2],dim=2))"
   ]
  },
  {
   "cell_type": "markdown",
   "metadata": {},
   "source": [
    "### 6.2 stack"
   ]
  },
  {
   "cell_type": "code",
   "execution_count": 303,
   "metadata": {},
   "outputs": [
    {
     "name": "stdout",
     "output_type": "stream",
     "text": [
      "torch.Size([2, 2, 3, 28])\n",
      "torch.Size([2, 3, 2, 28])\n",
      "torch.Size([2, 3, 28, 2])\n"
     ]
    }
   ],
   "source": [
    "a=torch.randn(2,3,28)\n",
    "b=torch.randn(2,3,28)\n",
    "print(torch.stack([a,b],dim=1).shape) #stack合并必须保证两个tensor形状一样\n",
    "print(torch.stack([a,b],dim=2).shape)\n",
    "print(torch.stack([a,b],dim=3).shape)"
   ]
  },
  {
   "cell_type": "markdown",
   "metadata": {},
   "source": [
    "### 6.3 split"
   ]
  },
  {
   "cell_type": "code",
   "execution_count": 308,
   "metadata": {},
   "outputs": [
    {
     "name": "stdout",
     "output_type": "stream",
     "text": [
      "tensor([[[-0.8577,  0.8703,  0.9544,  0.8725, -0.1217],\n",
      "         [ 1.5322, -0.4122, -0.0192, -0.7328,  0.0299],\n",
      "         [ 2.4033, -0.3326,  1.2151, -0.3883,  0.8547],\n",
      "         [-0.4159,  0.6108, -0.7646, -0.0669,  0.5527]],\n",
      "\n",
      "        [[ 1.9386, -0.9057,  0.9088,  0.1909,  0.3746],\n",
      "         [ 1.6579, -0.7929, -0.2220,  1.1055, -0.0835],\n",
      "         [-1.5835,  1.1030,  1.2433,  1.2480,  0.4129],\n",
      "         [-0.0429,  1.3875,  1.0068,  0.9697, -0.1014]],\n",
      "\n",
      "        [[-1.2221,  0.8827,  0.6879,  0.7788, -0.2160],\n",
      "         [ 0.3605,  1.2936, -1.1306, -0.8300,  0.5797],\n",
      "         [-0.7764, -0.0083, -1.9836,  0.7020,  1.0773],\n",
      "         [ 0.6268, -1.0865, -0.3782, -0.6626,  0.6187]]])\n",
      "(tensor([[[-0.8577,  0.8703,  0.9544,  0.8725, -0.1217],\n",
      "         [ 1.5322, -0.4122, -0.0192, -0.7328,  0.0299],\n",
      "         [ 2.4033, -0.3326,  1.2151, -0.3883,  0.8547],\n",
      "         [-0.4159,  0.6108, -0.7646, -0.0669,  0.5527]],\n",
      "\n",
      "        [[ 1.9386, -0.9057,  0.9088,  0.1909,  0.3746],\n",
      "         [ 1.6579, -0.7929, -0.2220,  1.1055, -0.0835],\n",
      "         [-1.5835,  1.1030,  1.2433,  1.2480,  0.4129],\n",
      "         [-0.0429,  1.3875,  1.0068,  0.9697, -0.1014]]]), tensor([[[-1.2221,  0.8827,  0.6879,  0.7788, -0.2160],\n",
      "         [ 0.3605,  1.2936, -1.1306, -0.8300,  0.5797],\n",
      "         [-0.7764, -0.0083, -1.9836,  0.7020,  1.0773],\n",
      "         [ 0.6268, -1.0865, -0.3782, -0.6626,  0.6187]]]))\n",
      "(tensor([[[-0.8577,  0.8703,  0.9544,  0.8725],\n",
      "         [ 1.5322, -0.4122, -0.0192, -0.7328],\n",
      "         [ 2.4033, -0.3326,  1.2151, -0.3883],\n",
      "         [-0.4159,  0.6108, -0.7646, -0.0669]],\n",
      "\n",
      "        [[ 1.9386, -0.9057,  0.9088,  0.1909],\n",
      "         [ 1.6579, -0.7929, -0.2220,  1.1055],\n",
      "         [-1.5835,  1.1030,  1.2433,  1.2480],\n",
      "         [-0.0429,  1.3875,  1.0068,  0.9697]],\n",
      "\n",
      "        [[-1.2221,  0.8827,  0.6879,  0.7788],\n",
      "         [ 0.3605,  1.2936, -1.1306, -0.8300],\n",
      "         [-0.7764, -0.0083, -1.9836,  0.7020],\n",
      "         [ 0.6268, -1.0865, -0.3782, -0.6626]]]), tensor([[[-0.1217],\n",
      "         [ 0.0299],\n",
      "         [ 0.8547],\n",
      "         [ 0.5527]],\n",
      "\n",
      "        [[ 0.3746],\n",
      "         [-0.0835],\n",
      "         [ 0.4129],\n",
      "         [-0.1014]],\n",
      "\n",
      "        [[-0.2160],\n",
      "         [ 0.5797],\n",
      "         [ 1.0773],\n",
      "         [ 0.6187]]]))\n"
     ]
    }
   ],
   "source": [
    "a=torch.randn(3,4,5)\n",
    "print(a)\n",
    "print(a.split([2,1],dim=0))\n",
    "print(a.split([4,1],dim=2))"
   ]
  },
  {
   "cell_type": "markdown",
   "metadata": {},
   "source": [
    "### 6.4 chunk,by num"
   ]
  },
  {
   "cell_type": "code",
   "execution_count": 309,
   "metadata": {},
   "outputs": [
    {
     "name": "stdout",
     "output_type": "stream",
     "text": [
      "tensor([[[ 0.0887,  0.6980, -1.5374, -0.6327,  0.8417],\n",
      "         [-1.0523, -1.4595, -1.4561, -0.2898,  0.7264],\n",
      "         [-0.6823,  1.0126,  0.1011, -0.5906,  0.6716],\n",
      "         [ 0.4506, -0.6889, -1.5806, -1.4609, -0.0778]],\n",
      "\n",
      "        [[ 1.1353,  0.3122, -0.2683,  1.4581, -0.9933],\n",
      "         [ 0.4153,  0.4118,  0.0569,  0.8171, -0.3081],\n",
      "         [-0.1617,  0.9038, -1.0966, -0.0186, -1.2336],\n",
      "         [ 0.0223,  0.3276,  0.8460,  0.4658, -0.5276]],\n",
      "\n",
      "        [[-0.0139, -1.7129,  0.6736,  1.8076, -1.2072],\n",
      "         [ 1.4366,  0.2133, -1.0703,  0.4038, -0.0568],\n",
      "         [-1.1657, -0.4318, -0.0108, -1.0369, -0.7705],\n",
      "         [-0.4578, -0.6574, -0.6069,  2.1351, -0.7070]]])\n",
      "(tensor([[[ 0.0887,  0.6980, -1.5374, -0.6327,  0.8417],\n",
      "         [-1.0523, -1.4595, -1.4561, -0.2898,  0.7264],\n",
      "         [-0.6823,  1.0126,  0.1011, -0.5906,  0.6716],\n",
      "         [ 0.4506, -0.6889, -1.5806, -1.4609, -0.0778]]]), tensor([[[ 1.1353,  0.3122, -0.2683,  1.4581, -0.9933],\n",
      "         [ 0.4153,  0.4118,  0.0569,  0.8171, -0.3081],\n",
      "         [-0.1617,  0.9038, -1.0966, -0.0186, -1.2336],\n",
      "         [ 0.0223,  0.3276,  0.8460,  0.4658, -0.5276]]]), tensor([[[-0.0139, -1.7129,  0.6736,  1.8076, -1.2072],\n",
      "         [ 1.4366,  0.2133, -1.0703,  0.4038, -0.0568],\n",
      "         [-1.1657, -0.4318, -0.0108, -1.0369, -0.7705],\n",
      "         [-0.4578, -0.6574, -0.6069,  2.1351, -0.7070]]]))\n",
      "(tensor([[[ 0.0887,  0.6980, -1.5374, -0.6327,  0.8417],\n",
      "         [-1.0523, -1.4595, -1.4561, -0.2898,  0.7264]],\n",
      "\n",
      "        [[ 1.1353,  0.3122, -0.2683,  1.4581, -0.9933],\n",
      "         [ 0.4153,  0.4118,  0.0569,  0.8171, -0.3081]],\n",
      "\n",
      "        [[-0.0139, -1.7129,  0.6736,  1.8076, -1.2072],\n",
      "         [ 1.4366,  0.2133, -1.0703,  0.4038, -0.0568]]]), tensor([[[-0.6823,  1.0126,  0.1011, -0.5906,  0.6716],\n",
      "         [ 0.4506, -0.6889, -1.5806, -1.4609, -0.0778]],\n",
      "\n",
      "        [[-0.1617,  0.9038, -1.0966, -0.0186, -1.2336],\n",
      "         [ 0.0223,  0.3276,  0.8460,  0.4658, -0.5276]],\n",
      "\n",
      "        [[-1.1657, -0.4318, -0.0108, -1.0369, -0.7705],\n",
      "         [-0.4578, -0.6574, -0.6069,  2.1351, -0.7070]]]))\n"
     ]
    }
   ],
   "source": [
    "a=torch.randn(3,4,5)\n",
    "print(a)\n",
    "print(a.chunk(3,dim=0))\n",
    "print(a.chunk(2,dim=1))"
   ]
  },
  {
   "cell_type": "markdown",
   "metadata": {},
   "source": [
    "## 7.数学运算"
   ]
  },
  {
   "cell_type": "markdown",
   "metadata": {},
   "source": [
    "### 7.1 basic"
   ]
  },
  {
   "cell_type": "code",
   "execution_count": 26,
   "metadata": {},
   "outputs": [
    {
     "name": "stdout",
     "output_type": "stream",
     "text": [
      "a:\n",
      " tensor([[ 1,  3,  5],\n",
      "        [ 7,  9, 11]])\n",
      "b:\n",
      " tensor([1, 2, 3])\n",
      "a+b:\n",
      " tensor([[ 2,  5,  8],\n",
      "        [ 8, 11, 14]]) \n",
      " tensor([[ 2,  5,  8],\n",
      "        [ 8, 11, 14]])\n",
      "a-b:\n",
      " tensor([[0, 1, 2],\n",
      "        [6, 7, 8]])\n",
      "a*b:\n",
      " tensor([[ 1,  6, 15],\n",
      "        [ 7, 18, 33]])\n",
      "a/b:\n",
      " tensor([[1.0000, 1.5000, 1.6667],\n",
      "        [7.0000, 4.5000, 3.6667]])\n",
      "a**b:\n",
      " tensor([[   1,    9,  125],\n",
      "        [   7,   81, 1331]])\n",
      "b.repeat():\n",
      " tensor([[1, 2, 3],\n",
      "        [1, 2, 3]])\n",
      "c:\n",
      " tensor([[1, 2, 3],\n",
      "        [1, 2, 3]])\n",
      "a@c:\n",
      " tensor([[22, 22],\n",
      "        [58, 58]]) \n",
      " tensor([[22, 22],\n",
      "        [58, 58]])\n"
     ]
    }
   ],
   "source": [
    "a=torch.arange(1,12,2).reshape(2,3)\n",
    "b=torch.arange(1,4)\n",
    "print(\"a:\\n\",a)\n",
    "print(\"b:\\n\",b)\n",
    "print(\"a+b:\\n\",a+b,\"\\n\",torch.add(a,b)) #既可以使用“+”，也可以使用torch.add(),下属同理\n",
    "print('a-b:\\n',a-b)\n",
    "print(\"a*b:\\n\",a*b)\n",
    "print(\"a/b:\\n\",a/b)\n",
    "print(\"a**b:\\n\",a**b)\n",
    "print(\"b.repeat():\\n\",b.repeat(2).reshape(2,3)) #复制b为[2,3]的矩阵\n",
    "c=b.reshape(1,3).repeat(2,1)\n",
    "print(\"c:\\n\",c)\n",
    "print(\"a@c:\\n\",a@c.t(),\"\\n\",torch.matmul(a,c.t()))\n"
   ]
  },
  {
   "cell_type": "markdown",
   "metadata": {},
   "source": [
    "### 7.2 pow,rsqrt,sum,exp"
   ]
  },
  {
   "cell_type": "code",
   "execution_count": 53,
   "metadata": {},
   "outputs": [
    {
     "name": "stdout",
     "output_type": "stream",
     "text": [
      "a:\n",
      " tensor([[ 1,  4,  7, 10],\n",
      "        [13, 16, 19, 22]]) \n",
      "b:\n",
      " tensor([1, 2, 3, 4])\n",
      "a^2:\n",
      " tensor([[  1,  16,  49, 100],\n",
      "        [169, 256, 361, 484]]) \n",
      " tensor([[  1,  16,  49, 100],\n",
      "        [169, 256, 361, 484]])\n",
      "sum:\n",
      " tensor(92) tensor([14, 20, 26, 32]) tensor([22, 70]) tensor(92)\n",
      "rsqrt:\n",
      " tensor([[1.0000, 0.5000, 0.3780, 0.3162],\n",
      "        [0.2774, 0.2500, 0.2294, 0.2132]])\n"
     ]
    }
   ],
   "source": [
    "a=torch.arange(1,23,3).reshape(2,-1)\n",
    "b=torch.arange(1,5)\n",
    "print(\"a:\\n\",a,\"\\nb:\\n\",b)\n",
    "print(\"a^2:\\n\",a.pow(2),\"\\n\",a**2) #a^2表示异或操作\n",
    "print(\"sum:\\n\",a.sum() ,a.sum(0) ,a.sum(1), a.sum(0).sum(0))\n",
    "print(\"rsqrt:\\n\",a.rsqrt())"
   ]
  },
  {
   "cell_type": "code",
   "execution_count": 42,
   "metadata": {},
   "outputs": [
    {
     "data": {
      "text/plain": [
       "3"
      ]
     },
     "execution_count": 42,
     "metadata": {},
     "output_type": "execute_result"
    }
   ],
   "source": [
    "1^2 #异或操作"
   ]
  },
  {
   "cell_type": "markdown",
   "metadata": {},
   "source": [
    "### 7.3 近似操作：floor(),ceil(),round(),trunc(),frac()"
   ]
  },
  {
   "cell_type": "code",
   "execution_count": 57,
   "metadata": {},
   "outputs": [
    {
     "name": "stdout",
     "output_type": "stream",
     "text": [
      "a\n",
      " tensor(3.1400) \n",
      "b\n",
      " tensor(3.6400)\n",
      "tensor(3.) tensor(4.) tensor(3.) tensor(3.) tensor(0.1400)\n",
      "tensor(3.) tensor(4.) tensor(4.) tensor(3.) tensor(0.6400)\n"
     ]
    }
   ],
   "source": [
    "a=torch.tensor(3.14)\n",
    "b=a+0.5\n",
    "print(\"a\\n\",a,\"\\nb\\n\",b)\n",
    "print(a.floor(),a.ceil(),a.round(),a.trunc(),a.frac())\n",
    "print(b.floor(),b.ceil(),b.round(),b.trunc(),b.frac())"
   ]
  },
  {
   "cell_type": "markdown",
   "metadata": {},
   "source": [
    "### 7.4 clamp 裁剪"
   ]
  },
  {
   "cell_type": "code",
   "execution_count": 65,
   "metadata": {},
   "outputs": [
    {
     "name": "stdout",
     "output_type": "stream",
     "text": [
      "tensor([[ 0.1760,  1.6329, -1.5506, -0.5868],\n",
      "        [-0.1908, -0.8261,  0.3126,  0.7941],\n",
      "        [ 0.9395,  0.5641, -0.0066, -0.4168]])\n",
      "tensor([[1.0000, 1.6329, 1.0000, 1.0000],\n",
      "        [1.0000, 1.0000, 1.0000, 1.0000],\n",
      "        [1.0000, 1.0000, 1.0000, 1.0000]])\n",
      "tensor([[0.1760, 1.0000, 0.0000, 0.0000],\n",
      "        [0.0000, 0.0000, 0.3126, 0.7941],\n",
      "        [0.9395, 0.5641, 0.0000, 0.0000]])\n"
     ]
    }
   ],
   "source": [
    "a=torch.randn(3,4)\n",
    "print(a)\n",
    "print(a.clamp(1))\n",
    "print(a.clamp(0,1))"
   ]
  },
  {
   "cell_type": "code",
   "execution_count": null,
   "metadata": {},
   "outputs": [],
   "source": []
  }
 ],
 "metadata": {
  "kernelspec": {
   "display_name": "d21",
   "language": "python",
   "name": "python3"
  },
  "language_info": {
   "codemirror_mode": {
    "name": "ipython",
    "version": 3
   },
   "file_extension": ".py",
   "mimetype": "text/x-python",
   "name": "python",
   "nbconvert_exporter": "python",
   "pygments_lexer": "ipython3",
   "version": "3.13.2"
  }
 },
 "nbformat": 4,
 "nbformat_minor": 4
}
